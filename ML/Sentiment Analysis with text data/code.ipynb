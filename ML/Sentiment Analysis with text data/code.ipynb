{
 "cells": [
  {
   "cell_type": "code",
   "execution_count": null,
   "id": "8b7cbf81",
   "metadata": {},
   "outputs": [],
   "source": [
    "import numpy as np\n",
    "import pandas as pd\n",
    "import matplotlib.pyplot as plt\n",
    "import seaborn as sns\n",
    "import warnings \n",
    "warnings.filterwarnings('ignore')\n",
    "from sklearn.metrics import classification_report, accuracy_score, confusion_matrix, recall_score, precision_score"
   ]
  },
  {
   "cell_type": "code",
   "execution_count": null,
   "id": "18bea875",
   "metadata": {},
   "outputs": [],
   "source": [
    "df = pd.read_csv(r'C:\\Users\\utente\\Desktop\\Machine learning course VRSE 2024\\Machine learning course VRSREC 2023\\08-07-2023 Sentiment analysis with text data\\IMDB Dataset.csv')\n",
    "df.head()"
   ]
  },
  {
   "cell_type": "code",
   "execution_count": null,
   "id": "c0015f86",
   "metadata": {},
   "outputs": [],
   "source": [
    "df.info()"
   ]
  },
  {
   "cell_type": "code",
   "execution_count": null,
   "id": "1bf0db78",
   "metadata": {},
   "outputs": [],
   "source": [
    "df_positive = df[df['sentiment'] =='positive'][:9000]\n",
    "df_negative = df[df['sentiment'] =='negative'][:1000]\n",
    "df_review = pd.concat([df_positive, df_negative])\n",
    "df_review.head()"
   ]
  },
  {
   "cell_type": "code",
   "execution_count": null,
   "id": "59cd133c",
   "metadata": {},
   "outputs": [],
   "source": [
    "# sns.countplot?"
   ]
  },
  {
   "cell_type": "code",
   "execution_count": null,
   "id": "57b3ac26",
   "metadata": {},
   "outputs": [],
   "source": [
    "sns.countplot(x = 'sentiment', data = df_review)\n",
    "plt.show()"
   ]
  },
  {
   "cell_type": "code",
   "execution_count": null,
   "id": "5c017a28",
   "metadata": {},
   "outputs": [],
   "source": [
    "!pip install imbalanced_learn"
   ]
  },
  {
   "cell_type": "code",
   "execution_count": null,
   "id": "02ac845e",
   "metadata": {},
   "outputs": [],
   "source": [
    "from imblearn.under_sampling import RandomUnderSampler"
   ]
  },
  {
   "cell_type": "code",
   "execution_count": null,
   "id": "707f20c3",
   "metadata": {
    "scrolled": true
   },
   "outputs": [],
   "source": [
    "rus = RandomUnderSampler(random_state=0)\n",
    "\n",
    "df_review_bal, df_review_bal['sentiment']=rus.fit_resample(df_review[['review']],df_review['sentiment'])\n",
    "df_review_bal"
   ]
  },
  {
   "cell_type": "code",
   "execution_count": null,
   "id": "d9990c14",
   "metadata": {
    "scrolled": true
   },
   "outputs": [],
   "source": [
    "sns.countplot(data = df_review_bal, x = 'sentiment')\n",
    "plt.show()"
   ]
  },
  {
   "cell_type": "code",
   "execution_count": null,
   "id": "b1b607a0",
   "metadata": {},
   "outputs": [],
   "source": [
    "print(df_review.value_counts('sentiment'))\n",
    "print(df_review_bal.value_counts('sentiment'))"
   ]
  },
  {
   "cell_type": "code",
   "execution_count": null,
   "id": "d7f19eb1",
   "metadata": {},
   "outputs": [],
   "source": [
    "# from imblearn.over_sampling import RandomOverSampler\n",
    "\n",
    "# ros = RandomOverSampler(random_state=0)\n",
    "\n",
    "# df_review_bal, df_review_bal['sentiment']=ros.fit_resample(df_review[['review']],df_review['sentiment'])\n",
    "# df_review_bal"
   ]
  },
  {
   "cell_type": "code",
   "execution_count": null,
   "id": "e65d7cbf",
   "metadata": {},
   "outputs": [],
   "source": [
    "# print(df_review.value_counts('sentiment'))\n",
    "# print(df_review_bal.value_counts('sentiment'))"
   ]
  },
  {
   "cell_type": "code",
   "execution_count": null,
   "id": "43351932",
   "metadata": {},
   "outputs": [],
   "source": [
    "X = df_review_bal['review']\n",
    "y = df_review_bal['sentiment']"
   ]
  },
  {
   "cell_type": "code",
   "execution_count": null,
   "id": "c748d102",
   "metadata": {},
   "outputs": [],
   "source": [
    "from sklearn.model_selection import train_test_split"
   ]
  },
  {
   "cell_type": "code",
   "execution_count": null,
   "id": "dd16fec2",
   "metadata": {},
   "outputs": [],
   "source": [
    "X_train, X_test, y_train, y_test = train_test_split(X,y, test_size = 0.3, random_state = 42)"
   ]
  },
  {
   "cell_type": "code",
   "execution_count": null,
   "id": "e73d23ea",
   "metadata": {},
   "outputs": [],
   "source": [
    "X_train.value_counts()\n",
    "y_train.value_counts()"
   ]
  },
  {
   "cell_type": "code",
   "execution_count": null,
   "id": "d1f83650",
   "metadata": {},
   "outputs": [],
   "source": [
    "import pandas as pd\n",
    "from sklearn.feature_extraction.text import CountVectorizer\n",
    "text = ['I love watching Cricket. I love Travelling',\n",
    "       'I hate to eat junk food. I hate to write Java code']\n",
    "df = pd.DataFrame({'review':['review1', 'review2'], 'text': text})\n",
    "df"
   ]
  },
  {
   "cell_type": "code",
   "execution_count": null,
   "id": "4236820c",
   "metadata": {},
   "outputs": [],
   "source": [
    "cv = CountVectorizer(stop_words = 'english')\n",
    "cv_matrix = cv.fit_transform(df['text'])\n",
    "cv_matrix "
   ]
  },
  {
   "cell_type": "code",
   "execution_count": null,
   "id": "f95b03b8",
   "metadata": {},
   "outputs": [],
   "source": [
    "df_dtm = pd.DataFrame(cv_matrix.toarray(), index=df['review'].values, columns=cv.get_feature_names_out())\n",
    "df_dtm"
   ]
  },
  {
   "cell_type": "code",
   "execution_count": null,
   "id": "5643feaa",
   "metadata": {},
   "outputs": [],
   "source": [
    "import pandas as pd\n",
    "from sklearn.feature_extraction.text import TfidfVectorizer\n",
    "text = ['I love watching Cricket. I love Travelling',\n",
    "       'I hate to eat junk food. I hate to write Java code']\n",
    "df = pd.DataFrame({'review':['review1', 'review2'], 'text': text})\n",
    "tfidf = TfidfVectorizer(stop_words = 'english')\n",
    "tfidf_matrix = tfidf.fit_transform(df['text'])\n",
    "df_tfidf = pd.DataFrame(tfidf_matrix.toarray(), index=df['review'].values, columns=tfidf.get_feature_names_out())\n",
    "df_tfidf"
   ]
  },
  {
   "cell_type": "code",
   "execution_count": null,
   "id": "7baa2b5c",
   "metadata": {},
   "outputs": [],
   "source": [
    "tfidf = TfidfVectorizer(stop_words='english')\n",
    "train_x_vector = tfidf.fit_transform(X_train)\n",
    "# also fit the test_x_vector\n",
    "test_x_vector = tfidf.transform(X_test)"
   ]
  },
  {
   "cell_type": "code",
   "execution_count": null,
   "id": "8b739441",
   "metadata": {},
   "outputs": [],
   "source": [
    "from sklearn.feature_extraction.text import CountVectorizer\n",
    "\n",
    "cv = CountVectorizer(stop_words='english')\n",
    "train_x_vector = cv.fit_transform(X_train)\n",
    "test_x_vector = cv.transform(X_test)"
   ]
  },
  {
   "cell_type": "code",
   "execution_count": null,
   "id": "f06aa927",
   "metadata": {},
   "outputs": [],
   "source": [
    "train_x_vector"
   ]
  },
  {
   "cell_type": "code",
   "execution_count": null,
   "id": "4e0afe65",
   "metadata": {},
   "outputs": [],
   "source": [
    "pd.DataFrame.sparse.from_spmatrix(train_x_vector,\n",
    "                                  index=X_train.index,\n",
    "                                  columns=tfidf.get_feature_names_out())"
   ]
  },
  {
   "cell_type": "code",
   "execution_count": null,
   "id": "1676c904",
   "metadata": {},
   "outputs": [],
   "source": [
    "test_x_vector = tfidf.transform(X_test)\n",
    "test_x_vector"
   ]
  },
  {
   "cell_type": "code",
   "execution_count": null,
   "id": "80ecd7e0",
   "metadata": {},
   "outputs": [],
   "source": [
    "pd.DataFrame.sparse.from_spmatrix(test_x_vector,\n",
    "                                  index=X_test.index,\n",
    "                                  columns=tfidf.get_feature_names_out())"
   ]
  },
  {
   "cell_type": "code",
   "execution_count": null,
   "id": "275484c8",
   "metadata": {},
   "outputs": [],
   "source": [
    "from sklearn.tree import DecisionTreeClassifier\n",
    "from sklearn.naive_bayes import GaussianNB\n",
    "from sklearn.linear_model import LogisticRegression\n",
    "from sklearn.svm import SVC"
   ]
  },
  {
   "cell_type": "code",
   "execution_count": null,
   "id": "1074a588",
   "metadata": {},
   "outputs": [],
   "source": [
    "from sklearn.svm import SVC\n",
    "svc = SVC(kernel='linear')\n",
    "svc.fit(train_x_vector, y_train)"
   ]
  },
  {
   "cell_type": "code",
   "execution_count": null,
   "id": "3914c0bb",
   "metadata": {},
   "outputs": [],
   "source": [
    "y_pred = svc.predict(test_x_vector)"
   ]
  },
  {
   "cell_type": "code",
   "execution_count": null,
   "id": "674bf5e6",
   "metadata": {},
   "outputs": [],
   "source": [
    "print('accuracy of svm', accuracy_score(y_test, y_pred))"
   ]
  },
  {
   "cell_type": "code",
   "execution_count": null,
   "id": "1f89fa8e",
   "metadata": {},
   "outputs": [],
   "source": [
    "print('recall of svm', recall_score(y_test, y_pred, pos_label = 'positive'))"
   ]
  },
  {
   "cell_type": "code",
   "execution_count": null,
   "id": "33844131",
   "metadata": {},
   "outputs": [],
   "source": [
    "precision_score?"
   ]
  },
  {
   "cell_type": "code",
   "execution_count": null,
   "id": "98407b49",
   "metadata": {},
   "outputs": [],
   "source": [
    "print('precision of svm', precision_score(y_test, y_pred, pos_label = 'positive'))"
   ]
  },
  {
   "cell_type": "code",
   "execution_count": null,
   "id": "d11f5d70",
   "metadata": {},
   "outputs": [],
   "source": [
    "from sklearn.metrics import f1_score"
   ]
  },
  {
   "cell_type": "code",
   "execution_count": null,
   "id": "53947b21",
   "metadata": {},
   "outputs": [],
   "source": [
    "print('f1 score of svm', f1_score(y_test, y_pred, pos_label = 'positive'))"
   ]
  },
  {
   "cell_type": "code",
   "execution_count": null,
   "id": "c5312283",
   "metadata": {},
   "outputs": [],
   "source": [
    "from sklearn.metrics import classification_report\n",
    "print(':::::::Report of SVM model is presented below :::::::', '\\n' , '\\n',\n",
    "     classification_report(y_test, y_pred))"
   ]
  },
  {
   "cell_type": "code",
   "execution_count": null,
   "id": "2d0e351d",
   "metadata": {},
   "outputs": [],
   "source": [
    "print('::::::::Confusion Matrix of DT::::::::::::',  '\\n', '\\n', confusion_matrix(y_test, y_pred))"
   ]
  },
  {
   "cell_type": "code",
   "execution_count": null,
   "id": "399377ad",
   "metadata": {
    "scrolled": true
   },
   "outputs": [],
   "source": [
    "cm = confusion_matrix(y_test, y_pred)\n",
    "sns.heatmap(cm, annot = True, xticklabels='auto',\n",
    "    yticklabels='auto',  fmt='d', cmap='GnBu')\n",
    "plt.plot(figsize=(10,10))\n",
    "plt.show()"
   ]
  },
  {
   "cell_type": "code",
   "execution_count": null,
   "id": "e6f3cef5",
   "metadata": {},
   "outputs": [],
   "source": [
    "print(svc.predict(tfidf.transform(['A good movie'])))\n",
    "print(svc.predict(tfidf.transform(['An excellent movie'])))\n",
    "print(svc.predict(tfidf.transform(['\"I did not like this movie at all I gave this movie away\"'])))"
   ]
  }
 ],
 "metadata": {
  "kernelspec": {
   "display_name": "Python 3 (ipykernel)",
   "language": "python",
   "name": "python3"
  },
  "language_info": {
   "codemirror_mode": {
    "name": "ipython",
    "version": 3
   },
   "file_extension": ".py",
   "mimetype": "text/x-python",
   "name": "python",
   "nbconvert_exporter": "python",
   "pygments_lexer": "ipython3",
   "version": "3.9.13"
  }
 },
 "nbformat": 4,
 "nbformat_minor": 5
}
